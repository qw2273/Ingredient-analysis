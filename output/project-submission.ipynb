{
 "cells": [
  {
   "cell_type": "markdown",
   "metadata": {},
   "source": [
    "# Project\n",
    "- Work solo or with one other person\n",
    "- Topic should be something interesting and fun for you\n",
    "- Your code should be written in Python 3.7\n",
    "- Effort roughly equivalent to two homeworks\n",
    "    - perhaps 100-200 lines of code\n",
    "    - sometimes people really get into it, which is fine\n",
    "        - have seen 1,000 line programs, but this is NOT necessary\n",
    "- All I'm really looking for is to see you've learned some Python and can do something with it\n",
    "- Happy to discuss your project with you if you have questions\n",
    "- Hangman games are highly discouraged(seen a pile of them)\n",
    "- Some people put their projects on GitHub as a calling card\n",
    "- If you are interested in doing a game, check out [pygame](https://www.pygame.org/docs/)\n",
    "- Fill in this notebook and include it in the zip file you submit"
   ]
  },
  {
   "cell_type": "markdown",
   "metadata": {},
   "source": [
    "# If you did a solo project, fill in this cell\n",
    "\n",
    "```\n",
    "name: Qiqi Wu\n",
    "UNI: qw2273\n",
    "```\n",
    "\n",
    "Submit a zip file named 'yourUNI.zip' to CW2 that includes this notebook, your source, documentation, and data files. The zip must expand into a directory named 'YourUNI', and all your files should be under the YourUNI directory.\n"
   ]
  },
  {
   "cell_type": "markdown",
   "metadata": {},
   "source": [
    "# If you did a project with a partner, fill in this cell\n",
    "\n",
    "```\n",
    "name1:\n",
    "UNI1:\n",
    "\n",
    "name2:\n",
    "UNI2:\n",
    "\n",
    "roughly, who did what:\n",
    "\n",
    "```\n",
    "\n",
    "Each of you should submit the SAME zip file named   \n",
    "'UNI1-UNI2.zip' to CW2. The zip should include this notebook, your source, documentation, and data files. The zip must expand into a directory named 'UNI1-UNI2', and all your files should be under the UNI1-UNI2 directory.\n"
   ]
  },
  {
   "cell_type": "markdown",
   "metadata": {},
   "source": [
    "# Understanding Your Skin Care Product Ingredients "
   ]
  },
  {
   "cell_type": "markdown",
   "metadata": {},
   "source": [
    "![image](http://humanities.uclaextension.edu/wp-content/uploads/2015/11/shutterstock_521821189-1.jpg)"
   ]
  },
  {
   "cell_type": "markdown",
   "metadata": {},
   "source": [
    "# What does your project do?\n",
    "- Every day, I apply toner, daytime moisturizer, eye cream, nighttime moisturizer on my face. Sometimes, I keep wondering what are in these products? Are they safe? Or for some pricy products, do their ingredients differ from others? Does there exist any substitute for these pricy ones?  \n",
    "Thus, I decide to use this final project as an opportunity to take a closer look at some skincare products and find ones that similar in ingredients. \n",
    "- The project idea is inspired by a practiced project on datacamp, but the dataset is not downloadable, so I deceide to do scrape some data on myself. The website that I use is [Beautypedia](https://www.beautypedia.com) that provides detailed information on thousands of products. This project will restrain its focus on skincare products, specidically on moisturizer and eyecream products.  "
   ]
  },
  {
   "cell_type": "markdown",
   "metadata": {},
   "source": [
    "The following two screenshots show the visualization of analysis results. The bokeh interactive plots not only indicates the product information in details but also allow the user to choose the type and rating to show the related products. On the plot, if two points are close to each other, it means that these two products have similar ingredients. "
   ]
  },
  {
   "cell_type": "markdown",
   "metadata": {},
   "source": [
    "![test](../Final_Project_qw2273/1.png)"
   ]
  },
  {
   "cell_type": "markdown",
   "metadata": {},
   "source": [
    "![test](../Final_Project_qw2273/2.png)\n"
   ]
  },
  {
   "cell_type": "markdown",
   "metadata": {},
   "source": [
    "# What modules did you import, if any?\n",
    "sys, time, selenium, statistics, pandas,numpy, re,ChemDataExtractor, sklearn, bokeh"
   ]
  },
  {
   "cell_type": "markdown",
   "metadata": {},
   "source": [
    "# Attribution\n",
    "Some webpages that help me during this project.\n",
    "- https://www.datacamp.com/community/tutorials/introduction-t-sne\n",
    "- https://www.datacamp.com/projects/695 \n",
    "- https://towardsdatascience.com/data-visualization-with-bokeh-in-python-part-one-getting-started-a11655a467d4"
   ]
  },
  {
   "cell_type": "markdown",
   "metadata": {},
   "source": [
    "# Explain how we can run your project\n",
    "- For webscraping, I used  Selenium which requires driver to interface with the chosen browser. Please download the right driver for your browser. Mine is Google Chrome Version 78.0. If you decide to use Chrome, please make sure webdrivrer vesion is matched with your browser version, otherwise it will cause errors later. Installation guide can be found at https://selenium-python.readthedocs.io/installation.html. \n",
    "- Part II Web scraping may take a while to run, you may reduce the argument 'secs' in time.sleep(secs) to reduce the processing time. Otherwise, if you don't want to re-run the whole webscraping part, just move forward and load the saved csv file in Part III."
   ]
  },
  {
   "cell_type": "markdown",
   "metadata": {},
   "source": [
    "# An evaluation of Python's suitability to your task\n",
    "- Were any problems encountered?\n",
    "    - Web scapping part is harder than I expected, I spend sometime on learning html and xpath language and applying selenium to find the correct stuff I want to extract from the pages. But I feel my effort is worthy and feel a lot of fun when during this part. \n",
    "    - I think Data cleaning part on text data on ingredients is really hard. One reason is that for different products, the way that manufacture named ingredients differs from one to another, like some named water as aqua water. Besides, there are some spelling mistakes in ingerdients list, for example, '2-oleamido-1' is written as '2-oleamindo-1'. So this actually increase feature space.\n",
    "    \n",
    "- Was Python a good fit for your project?\n",
    "    - I think overall Python is a good fit for this project. For web scaping part, I combine the all functions into a class,which makes it easier to run and use. And Compared with R shiny which requires a deploy on shiny.io, Bokeh ipywidgets allows me to interact with Jupyter Notebook, which  makes it more convenient."
   ]
  },
  {
   "cell_type": "code",
   "execution_count": null,
   "metadata": {},
   "outputs": [],
   "source": []
  }
 ],
 "metadata": {
  "kernelspec": {
   "display_name": "Python 3",
   "language": "python",
   "name": "python3"
  },
  "language_info": {
   "codemirror_mode": {
    "name": "ipython",
    "version": 3
   },
   "file_extension": ".py",
   "mimetype": "text/x-python",
   "name": "python",
   "nbconvert_exporter": "python",
   "pygments_lexer": "ipython3",
   "version": "3.7.4"
  }
 },
 "nbformat": 4,
 "nbformat_minor": 1
}
