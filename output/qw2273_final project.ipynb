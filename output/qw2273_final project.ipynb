{
 "cells": [
  {
   "cell_type": "markdown",
   "metadata": {},
   "source": [
    "# Understanding Your Skin Care Product Ingredients "
   ]
  },
  {
   "cell_type": "markdown",
   "metadata": {},
   "source": [
    "## Part I.  Import Modules "
   ]
  },
  {
   "cell_type": "code",
   "execution_count": 5,
   "metadata": {
    "scrolled": true
   },
   "outputs": [],
   "source": [
    "import sys\n",
    "import time\n",
    "from selenium import webdriver\n",
    "from selenium.webdriver.common.keys import Keys\n",
    "from selenium.webdriver.support.ui import Select\n",
    "from selenium.common.exceptions import NoSuchElementException"
   ]
  },
  {
   "cell_type": "code",
   "execution_count": 6,
   "metadata": {},
   "outputs": [],
   "source": [
    "import statistics  as stat\n",
    "import pandas as pd\n",
    "import numpy as np \n",
    "import re\n",
    "from sklearn.manifold import TSNE"
   ]
  },
  {
   "cell_type": "code",
   "execution_count": 7,
   "metadata": {},
   "outputs": [],
   "source": [
    "root = sys.path[0]"
   ]
  },
  {
   "cell_type": "markdown",
   "metadata": {},
   "source": [
    "Notice: Please download the right driver for your browser. [Click to see the guide on driver Installation](https://selenium-python.readthedocs.io/installation.html)"
   ]
  },
  {
   "cell_type": "code",
   "execution_count": 4,
   "metadata": {},
   "outputs": [],
   "source": [
    "chrome_path = root + '/chromedriver'\n",
    "# test if webdriver is installed correctly\n",
    "#driver_test = webdriver.Chrome(executable_path = chrome_path)"
   ]
  },
  {
   "cell_type": "markdown",
   "metadata": {},
   "source": [
    "## Part II.  Web Scraping "
   ]
  },
  {
   "cell_type": "markdown",
   "metadata": {},
   "source": [
    "#### 1. Find infomation on product's name, brand,  price, rating, ingredients"
   ]
  },
  {
   "cell_type": "markdown",
   "metadata": {},
   "source": [
    "##### class scrape_by_category\n",
    "- class scrape_by_category has instance variables: \n",
    "    - brandname, productname,price,rating,ingredient - infomation for each product \n",
    "    - suburl - the product detail page \n",
    "- define methods \n",
    "    - `__init__`(self, driver,tck, sec, n_scroll)\n",
    "        - 1st arg driver - call the browser       \n",
    "        - 2nd arg tck - specify the category you want to scarpe \n",
    "        - 3rd arg sec - specify the seconds to hault the flow of the program,reduce it can decrease \n",
    "          processing time \n",
    "        - 4th arg n_scroll - specify the number of times when scroll down the each page, reduce it can decrease \n",
    "          processing time \n",
    "        - brandname,productname,suburl,price, rating,ingredient are all initialized to be empty list \n",
    "    - `scrollDown`(self)\n",
    "        - scroll down the pages by number of times defined by user\n",
    "    - `extractinfo`(self)\n",
    "        - for each category page, extract info on products general info  \n",
    "    - `extract_all_items`(self)\n",
    "        - extract detailed information from each product's own page "
   ]
  },
  {
   "cell_type": "code",
   "execution_count": 21,
   "metadata": {},
   "outputs": [],
   "source": [
    "class scrape_by_category:\n",
    "    \n",
    "    def __init__(self, driver,tck, sec, n_scroll):\n",
    "        self.driver= driver\n",
    "        self.sec = sec\n",
    "        self.tck = tck\n",
    "        self.brandname,self.productname, self.suburl = [], [] ,  [] \n",
    "        self.price, self.rating, self.ingredient = [], [],[]     \n",
    "        self.n_scroll = n_scroll\n",
    "        self.url_open = 'https://www.beautypedia.com/skin-care/' + tck + '/?size=96'\n",
    "    \n",
    "    def scrollDown(self):\n",
    "        body = self.driver.find_element_by_tag_name(\"body\")\n",
    "        while self.n_scroll >= 0:\n",
    "            body.send_keys(Keys.PAGE_DOWN)\n",
    "            time.sleep(self.sec)\n",
    "            self.n_scroll -= 1   \n",
    "    \n",
    "    def extractinfo(self):\n",
    "        xpath =  '//a[@class=\"review-brand\"]'\n",
    "        for elem in self.driver.find_elements_by_xpath(xpath):\n",
    "            self.brandname.append(elem.text)     \n",
    "    \n",
    "        xpath2 = '//a[@class=\"review-product\"]'    \n",
    "        for elem in self.driver.find_elements_by_xpath(xpath2):\n",
    "            self.productname.append(elem.text) \n",
    "            self.suburl.append(elem.get_attribute('href') )\n",
    "            \n",
    "        return self.brandname, self.productname, self.suburl\n",
    "    \n",
    "    def extract_all_items(self):    \n",
    "        \n",
    "        self.driver.get(self.url_open)\n",
    "        # open the first page \n",
    "        self.scrollDown()\n",
    "        self.brandname, self.productname, self.suburl  = self.extractinfo()  \n",
    "    \n",
    "        #record the number of pages to be read in total \n",
    "        sel_num = Select( self.driver.find_element_by_xpath('//div[@class=\"page-number\"]/select') ) \n",
    "        num_pages  = len(sel_num.options)\n",
    "       \n",
    "         # for eyecream : look at at most 5 pages to  save processing time \n",
    "        # if num_pages >=5: num_pages = 5\n",
    "    \n",
    "        # for nighttime and eyecream : only look at 3 pages to  save processing time \n",
    "        if num_pages >=3: num_pages = 3\n",
    "            \n",
    "        # from 2nd page to last page  \n",
    "        for i in range(num_pages-1):  \n",
    "            click_next_xpath = '//div[@class=\"page-buttons\"]/a[@class=\"page-button next-page\"]'\n",
    "            btn =  self.driver.find_element_by_xpath(click_next_xpath) \n",
    "            btn.click()\n",
    "            time.sleep(self.sec)   \n",
    "            self.scrollDown()\n",
    "            self.brandname, self.productname, self.suburl  = self.extractinfo( )  \n",
    "            time.sleep(self.sec)     \n",
    "    \n",
    "    def product_details_extract(self):   \n",
    "        # call the function to get suburls \n",
    "        self.extract_all_items()\n",
    "    \n",
    "        # define xpaths \n",
    "        xpath2 = '//div[@class=\"pricing-info\"]/span[@class=\"price\"]'\n",
    "        xpath3 = '//div[@class=\"expert-rating\"]/span'\n",
    "        xpath4 = '//h3[@class=\"tab-title ingredients\"]'\n",
    "        xpath5 = '//div[@class=\"ingredients\"]/div'\n",
    "    \n",
    "        for i in range(len(self.suburl)):\n",
    "            # access the url \n",
    "            self.driver.get(self.suburl[i])\n",
    "            time.sleep(self.sec) \n",
    "            # extract price info \n",
    "            self.price.append(self.driver.find_element_by_xpath(xpath2).text)\n",
    "            # extract rating\n",
    "            self.rating.append(self.driver.find_element_by_xpath(xpath3).get_attribute(\"class\")[-1]) \n",
    "            # find the expand button, click and extract ingredients info \n",
    "            try:\n",
    "                btn = self.driver.find_element_by_xpath(xpath4)\n",
    "                self.driver.execute_script(\"arguments[0].click();\", btn)\n",
    "                btn = self.driver.find_element_by_xpath(xpath4)\n",
    "                time.sleep(self.sec) \n",
    "                self.ingredient.append(self.driver.find_element_by_xpath(xpath5).text) \n",
    "            except NoSuchElementException:\n",
    "                self.ingredient.append('No Info') \n",
    "        return self.brandname, self.productname, self.price, self.rating, self.ingredient  "
   ]
  },
  {
   "cell_type": "code",
   "execution_count": 6,
   "metadata": {},
   "outputs": [],
   "source": [
    "# skin care product type that I am interested in \n",
    "ticker = ['moisturizer/daytime-moisturizer-reviews', 'moisturizer/nighttime-moisturizer-reviews',\n",
    "         'eyes/eye-cream-and-treatment-reviews']"
   ]
  },
  {
   "cell_type": "code",
   "execution_count": 7,
   "metadata": {
    "scrolled": true
   },
   "outputs": [
    {
     "name": "stdout",
     "output_type": "stream",
     "text": [
      "Finished in 5108.163042068481 seconds\n"
     ]
    }
   ],
   "source": [
    "browser = webdriver.Chrome(executable_path = chrome_path)\n",
    "dm = scrape_by_category(browser, ticker[0],2, 8) \n",
    "t0 = time.time()  \n",
    "brand_names_1, product_names_1, price_1, rating_1, ingred_1  = dm.product_details_extract()\n",
    "print(\"Finished in {} seconds\".format( time.time() - t0))"
   ]
  },
  {
   "cell_type": "markdown",
   "metadata": {},
   "source": [
    "Notice: After runing the above block, I noticed that it takes more than 1 hour to extract inforamtion for about 500 products; therefore when deal with nighttime and product I used 3*96 items, and reduced number of scroll from 8 to 5 then to 2 to further reduce processing time. "
   ]
  },
  {
   "cell_type": "code",
   "execution_count": 26,
   "metadata": {},
   "outputs": [],
   "source": [
    "# browser = webdriver.Chrome(executable_path = chrome_path)"
   ]
  },
  {
   "cell_type": "code",
   "execution_count": 22,
   "metadata": {},
   "outputs": [
    {
     "name": "stdout",
     "output_type": "stream",
     "text": [
      "Finished in 3165.4116501808167 seconds\n"
     ]
    }
   ],
   "source": [
    "nm = scrape_by_category(browser, ticker[1],2,5) \n",
    "t0 = time.time()  \n",
    "brand_names_2, product_names_2, price_2, rating_2, ingred_2  = nm.product_details_extract()\n",
    "print(\"Finished in {} seconds\".format( time.time() - t0))"
   ]
  },
  {
   "cell_type": "code",
   "execution_count": 28,
   "metadata": {},
   "outputs": [
    {
     "name": "stdout",
     "output_type": "stream",
     "text": [
      "Finished in 3001.537071943283 seconds\n"
     ]
    }
   ],
   "source": [
    "ec = scrape_by_category(browser, ticker[2],2,2) \n",
    "t0 = time.time()  \n",
    "brand_names_3, product_names_3, price_3, rating_3, ingred_3  = ec.product_details_extract()\n",
    "print(\"Finished in {} seconds\".format( time.time() - t0))"
   ]
  },
  {
   "cell_type": "code",
   "execution_count": 29,
   "metadata": {},
   "outputs": [],
   "source": [
    "browser.close()"
   ]
  },
  {
   "cell_type": "code",
   "execution_count": 30,
   "metadata": {},
   "outputs": [
    {
     "data": {
      "text/plain": [
       "(411, 288, 288)"
      ]
     },
     "execution_count": 30,
     "metadata": {},
     "output_type": "execute_result"
    }
   ],
   "source": [
    "len(brand_names_1), len(brand_names_2),len(brand_names_3)"
   ]
  },
  {
   "cell_type": "code",
   "execution_count": 48,
   "metadata": {},
   "outputs": [],
   "source": [
    "# save results to csv \n",
    "df_1 = pd.DataFrame(np.column_stack([brand_names_1, product_names_1, price_1, rating_1, ingred_1]))\n",
    "df_1['label'] = 'DM'\n",
    "\n",
    "\n",
    "df_2 = pd.DataFrame(np.column_stack([brand_names_2, product_names_2, price_2, rating_2, ingred_2 ]))\n",
    "df_2['label'] = 'NM'\n",
    " \n",
    "df_3 = pd.DataFrame(np.column_stack([brand_names_3, product_names_3, price_3, rating_3, ingred_3 ]))\n",
    "\n",
    "df_3['label'] = 'EC'\n",
    "\n",
    "cosmetic = pd.concat([df_1, df_2],axis = 0 )\n",
    "cosmetic = pd.concat([cosmetic, df_3],axis = 0 )\n",
    "cosmetic.columns  = ['brand_name', 'product_name', 'price', 'rating','ingredients', 'label']\n",
    "cosmetic.to_csv('cosmetic.csv',index = False, encoding='utf-8')"
   ]
  },
  {
   "cell_type": "markdown",
   "metadata": {},
   "source": [
    "## Part III. Preprocessing "
   ]
  },
  {
   "cell_type": "code",
   "execution_count": 8,
   "metadata": {},
   "outputs": [
    {
     "data": {
      "text/html": [
       "<div>\n",
       "<style scoped>\n",
       "    .dataframe tbody tr th:only-of-type {\n",
       "        vertical-align: middle;\n",
       "    }\n",
       "\n",
       "    .dataframe tbody tr th {\n",
       "        vertical-align: top;\n",
       "    }\n",
       "\n",
       "    .dataframe thead th {\n",
       "        text-align: right;\n",
       "    }\n",
       "</style>\n",
       "<table border=\"1\" class=\"dataframe\">\n",
       "  <thead>\n",
       "    <tr style=\"text-align: right;\">\n",
       "      <th></th>\n",
       "      <th>brand_name</th>\n",
       "      <th>product_name</th>\n",
       "      <th>price</th>\n",
       "      <th>rating</th>\n",
       "      <th>ingredients</th>\n",
       "      <th>label</th>\n",
       "    </tr>\n",
       "  </thead>\n",
       "  <tbody>\n",
       "    <tr>\n",
       "      <td>631</td>\n",
       "      <td>Laneige</td>\n",
       "      <td>Water Bank Gel Cream</td>\n",
       "      <td>32.00</td>\n",
       "      <td>2</td>\n",
       "      <td>Water, Butylene Glycol, Betaine, Glycerin, Dim...</td>\n",
       "      <td>NM</td>\n",
       "    </tr>\n",
       "    <tr>\n",
       "      <td>696</td>\n",
       "      <td>Clarins</td>\n",
       "      <td>ClarinsMen Line-Control Cream</td>\n",
       "      <td>53.00</td>\n",
       "      <td>2</td>\n",
       "      <td>Aqua/Water/Eau, Isononyl Isononanoate, Cyclome...</td>\n",
       "      <td>NM</td>\n",
       "    </tr>\n",
       "    <tr>\n",
       "      <td>657</td>\n",
       "      <td>Garnier Nutritioniste</td>\n",
       "      <td>Ultra-Lift Miracle Sleeping Cream Anti-Age + A...</td>\n",
       "      <td>17.99</td>\n",
       "      <td>1</td>\n",
       "      <td>Water, Dimethicone, Glycerin, Simmondsia Chine...</td>\n",
       "      <td>NM</td>\n",
       "    </tr>\n",
       "    <tr>\n",
       "      <td>647</td>\n",
       "      <td>philosophy</td>\n",
       "      <td>renewed hope in a jar</td>\n",
       "      <td>47.00</td>\n",
       "      <td>2</td>\n",
       "      <td>Aqua/Water/Eau, Cyclopentasiloxane, Stearic Ac...</td>\n",
       "      <td>NM</td>\n",
       "    </tr>\n",
       "    <tr>\n",
       "      <td>232</td>\n",
       "      <td>BeautiControl</td>\n",
       "      <td>BC Spa Facial Defend &amp; Restore Moisture Lotion...</td>\n",
       "      <td>34.00</td>\n",
       "      <td>4</td>\n",
       "      <td>Active Ingredient: Titanium Dioxide, Other Ing...</td>\n",
       "      <td>DM</td>\n",
       "    </tr>\n",
       "    <tr>\n",
       "      <td>785</td>\n",
       "      <td>Beautycounter</td>\n",
       "      <td>Any Time Eye Cream</td>\n",
       "      <td>32.00</td>\n",
       "      <td>2</td>\n",
       "      <td>Water (Aqua), Caprylic/Capric Triglyceride, Al...</td>\n",
       "      <td>EC</td>\n",
       "    </tr>\n",
       "    <tr>\n",
       "      <td>668</td>\n",
       "      <td>Nuance Salma Hayek</td>\n",
       "      <td>Age Affirm Firming Day &amp; Night Cream</td>\n",
       "      <td>21.99</td>\n",
       "      <td>1</td>\n",
       "      <td>Water( Aqua), Glycerin, Dimethicone, Caprylic/...</td>\n",
       "      <td>NM</td>\n",
       "    </tr>\n",
       "    <tr>\n",
       "      <td>129</td>\n",
       "      <td>Kate Somerville</td>\n",
       "      <td>Daily Deflector Waterlight Broad Spectrum 50+ ...</td>\n",
       "      <td>48.00</td>\n",
       "      <td>5</td>\n",
       "      <td>Active ingredients: Titanium Dioxide 8.3%, Zin...</td>\n",
       "      <td>DM</td>\n",
       "    </tr>\n",
       "    <tr>\n",
       "      <td>643</td>\n",
       "      <td>Estee Lauder</td>\n",
       "      <td>Enlighten Even Skintone Correcting Crème</td>\n",
       "      <td>55.00</td>\n",
       "      <td>2</td>\n",
       "      <td>WaterAquaEau, Phenyl Trimethicone, Butylene Gl...</td>\n",
       "      <td>NM</td>\n",
       "    </tr>\n",
       "    <tr>\n",
       "      <td>744</td>\n",
       "      <td>Lancome</td>\n",
       "      <td>Energie de Vie Eye Illuminating &amp; Cooling Anti...</td>\n",
       "      <td>39.00</td>\n",
       "      <td>1</td>\n",
       "      <td>Water, Glycerin, Alcohol Denat., Niacinamide, ...</td>\n",
       "      <td>EC</td>\n",
       "    </tr>\n",
       "  </tbody>\n",
       "</table>\n",
       "</div>"
      ],
      "text/plain": [
       "                brand_name                                       product_name  \\\n",
       "631                Laneige                               Water Bank Gel Cream   \n",
       "696                Clarins                      ClarinsMen Line-Control Cream   \n",
       "657  Garnier Nutritioniste  Ultra-Lift Miracle Sleeping Cream Anti-Age + A...   \n",
       "647             philosophy                              renewed hope in a jar   \n",
       "232          BeautiControl  BC Spa Facial Defend & Restore Moisture Lotion...   \n",
       "785          Beautycounter                                 Any Time Eye Cream   \n",
       "668     Nuance Salma Hayek               Age Affirm Firming Day & Night Cream   \n",
       "129        Kate Somerville  Daily Deflector Waterlight Broad Spectrum 50+ ...   \n",
       "643           Estee Lauder           Enlighten Even Skintone Correcting Crème   \n",
       "744                Lancome  Energie de Vie Eye Illuminating & Cooling Anti...   \n",
       "\n",
       "     price  rating                                        ingredients label  \n",
       "631  32.00       2  Water, Butylene Glycol, Betaine, Glycerin, Dim...    NM  \n",
       "696  53.00       2  Aqua/Water/Eau, Isononyl Isononanoate, Cyclome...    NM  \n",
       "657  17.99       1  Water, Dimethicone, Glycerin, Simmondsia Chine...    NM  \n",
       "647  47.00       2  Aqua/Water/Eau, Cyclopentasiloxane, Stearic Ac...    NM  \n",
       "232  34.00       4  Active Ingredient: Titanium Dioxide, Other Ing...    DM  \n",
       "785  32.00       2  Water (Aqua), Caprylic/Capric Triglyceride, Al...    EC  \n",
       "668  21.99       1  Water( Aqua), Glycerin, Dimethicone, Caprylic/...    NM  \n",
       "129  48.00       5  Active ingredients: Titanium Dioxide 8.3%, Zin...    DM  \n",
       "643  55.00       2  WaterAquaEau, Phenyl Trimethicone, Butylene Gl...    NM  \n",
       "744  39.00       1  Water, Glycerin, Alcohol Denat., Niacinamide, ...    EC  "
      ]
     },
     "metadata": {},
     "output_type": "display_data"
    }
   ],
   "source": [
    "# Load saved csv files \n",
    "cosm = pd.read_csv('cosmetic.csv')\n",
    "#cosm.shape\n",
    "display(cosm.sample(10))"
   ]
  },
  {
   "cell_type": "code",
   "execution_count": 9,
   "metadata": {},
   "outputs": [],
   "source": [
    "# remove duplicate rows by product name and drop products with no ingredients info \n",
    "cosm.drop_duplicates(subset =\"product_name\",  keep = False, inplace = True) \n",
    "cosm = cosm.dropna(how='any', subset=['ingredients'])"
   ]
  },
  {
   "cell_type": "code",
   "execution_count": 10,
   "metadata": {},
   "outputs": [],
   "source": [
    "# Only focus analysis on products which has price above its group's median price \n",
    "med_price_dict  = {t: stat.median(cosm.loc[cosm['label'] == t, 'price'])  for t in cosm.label.unique() }\n",
    "sub_cosm  = pd.DataFrame(columns= list(cosm.columns))\n",
    "for k in med_price_dict.keys():\n",
    "    subs = cosm[(cosm.label == k ) & (cosm.price >=  med_price_dict.get(k) )]    \n",
    "    sub_cosm = pd.concat([sub_cosm, subs], axis = 0 )\n",
    "sub_cosm = sub_cosm.reset_index(drop = True)"
   ]
  },
  {
   "cell_type": "code",
   "execution_count": 11,
   "metadata": {},
   "outputs": [
    {
     "data": {
      "text/plain": [
       "(503, 6)"
      ]
     },
     "execution_count": 11,
     "metadata": {},
     "output_type": "execute_result"
    }
   ],
   "source": [
    "sub_cosm.shape"
   ]
  },
  {
   "cell_type": "code",
   "execution_count": 12,
   "metadata": {},
   "outputs": [],
   "source": [
    "# clean ingredients text data, remove unnecessary parts for clean \n",
    "ingrednt = [] \n",
    "for string in sub_cosm['ingredients']:\n",
    "    pattern1 = re.compile(r\"\\s*\\([^\\)]+\\)\") # remove parentheses and text within it \n",
    "    string = re.sub(pattern1, '', string)\n",
    "    pattern2 = re.compile(r\"\\w+\\s*\\w+:\\s\") # remove the words like \"Active Ingredients\" and parentheses\n",
    "    string = re.sub(pattern2, '', string)\n",
    "    pattern3  = re.compile(r\"\\w+\\.*\\w*\\s*%\") # remove percentages \n",
    "    string = re.sub(pattern3, '', string)    \n",
    "    pattern4 = re.compile(r\";\")   # remove semicolon \n",
    "    string = re.sub(pattern4, ', ', string)\n",
    "    pattern5 = re.compile(r\"\\.{1}\\s+\")  #remove period in between words \n",
    "    string = re.sub(pattern5, ', ', string)\n",
    "    pattern6 = re.compile(r\"\\.$\")   # remove period at  the end of the ingredients list \n",
    "    string = re.sub(pattern6, '', string)\n",
    "    pattern7 = re.compile(r\"\\\\\\s{1}|\\/\\s{1}\") # remove slash signs \n",
    "    string = re.sub(pattern7, '', string) \n",
    "    pattern8 = re.compile(r\"\\\\|\\/\")   \n",
    "    string = re.sub(pattern8, ' ', string)\n",
    "    ingrednt.append(string)"
   ]
  },
  {
   "cell_type": "code",
   "execution_count": 13,
   "metadata": {},
   "outputs": [],
   "source": [
    "# Initialize dictionary, list, and initial index\n",
    "ingredient_idx = {} \n",
    "corpus = []  \n",
    "idx = 0\n",
    "\n",
    "# For loop for tokenization\n",
    "for i in range(len(ingrednt)):\n",
    "    ingredients = ingrednt[i]      \n",
    "    split_to_list = ingredients.split(',')\n",
    "    tokens = [t.lower().strip(' \\t\\n\\r') for t in  split_to_list  ] # token is a list of ingredients for each product \n",
    "    tokens = [t for t in tokens if len(t)>1 ] # keep those words whose length >1 \n",
    "    corpus.append(tokens)   # corpus is a list of tokens     \n",
    "    \n",
    "    for ingredient in tokens:              \n",
    "        if ingredient not in ingredient_idx:\n",
    "            ingredient_idx[ingredient] = idx              \n",
    "            idx += 1\n",
    "            \n",
    "#sorted (ingredient_idx)"
   ]
  },
  {
   "cell_type": "code",
   "execution_count": 14,
   "metadata": {},
   "outputs": [],
   "source": [
    "# Get the number of items and tokens \n",
    "# M: number of cosmetic \n",
    "M = len(sub_cosm) \n",
    "# N: number of ingredients\n",
    "N = len(ingredient_idx) \n",
    "# Initialize a matrix of zeros\n",
    "A = np.zeros(shape = (M, N))"
   ]
  },
  {
   "cell_type": "code",
   "execution_count": 15,
   "metadata": {},
   "outputs": [],
   "source": [
    "# Define the oh_encoder function\n",
    "def oh_encoder(tokens):\n",
    "    x = np.zeros(N)\n",
    "    for t in tokens:\n",
    "        # Get the index for each ingredient\n",
    "        idx = ingredient_idx[t]\n",
    "        # Put 1 at the corresponding indices\n",
    "        x[idx] = 1\n",
    "    return x"
   ]
  },
  {
   "cell_type": "code",
   "execution_count": 16,
   "metadata": {},
   "outputs": [],
   "source": [
    "# Make a document-term matrix\n",
    "# with column represent each ingredient and row represent the each cosmetic\n",
    "i = 0\n",
    "for tokens in corpus:\n",
    "    A[i, :] = oh_encoder(tokens)\n",
    "    i +=1"
   ]
  },
  {
   "cell_type": "code",
   "execution_count": 17,
   "metadata": {
    "scrolled": true
   },
   "outputs": [],
   "source": [
    "# Dimension reduction with t-SNE\n",
    "# set n_components = 2 for makeing a 2D plot later \n",
    "model = TSNE(n_components = 2, learning_rate = 200)\n",
    "tsne_features = model.fit_transform(A)\n",
    "# Make X, Y columns \n",
    "sub_cosm['X'] = tsne_features[:, 0]\n",
    "sub_cosm['Y'] = tsne_features[:, 1]"
   ]
  },
  {
   "cell_type": "markdown",
   "metadata": {},
   "source": [
    "## Part IV. Visualization "
   ]
  },
  {
   "cell_type": "code",
   "execution_count": 18,
   "metadata": {},
   "outputs": [],
   "source": [
    "from bokeh.models import ColumnDataSource, Select, HoverTool\n",
    "from bokeh.models.widgets import CheckboxGroup\n",
    "from bokeh.plotting import figure\n",
    "from bokeh.io import show, output_notebook\n",
    "from bokeh.layouts import layout, widgetbox, column, row\n",
    "from bokeh.models import Panel\n",
    "from bokeh.models.widgets import Tabs"
   ]
  },
  {
   "cell_type": "code",
   "execution_count": 19,
   "metadata": {},
   "outputs": [
    {
     "data": {
      "text/html": [
       "\n",
       "    <div class=\"bk-root\">\n",
       "        <a href=\"https://bokeh.pydata.org\" target=\"_blank\" class=\"bk-logo bk-logo-small bk-logo-notebook\"></a>\n",
       "        <span id=\"1001\">Loading BokehJS ...</span>\n",
       "    </div>"
      ]
     },
     "metadata": {},
     "output_type": "display_data"
    },
    {
     "data": {
      "application/javascript": [
       "\n",
       "(function(root) {\n",
       "  function now() {\n",
       "    return new Date();\n",
       "  }\n",
       "\n",
       "  var force = true;\n",
       "\n",
       "  if (typeof root._bokeh_onload_callbacks === \"undefined\" || force === true) {\n",
       "    root._bokeh_onload_callbacks = [];\n",
       "    root._bokeh_is_loading = undefined;\n",
       "  }\n",
       "\n",
       "  var JS_MIME_TYPE = 'application/javascript';\n",
       "  var HTML_MIME_TYPE = 'text/html';\n",
       "  var EXEC_MIME_TYPE = 'application/vnd.bokehjs_exec.v0+json';\n",
       "  var CLASS_NAME = 'output_bokeh rendered_html';\n",
       "\n",
       "  /**\n",
       "   * Render data to the DOM node\n",
       "   */\n",
       "  function render(props, node) {\n",
       "    var script = document.createElement(\"script\");\n",
       "    node.appendChild(script);\n",
       "  }\n",
       "\n",
       "  /**\n",
       "   * Handle when an output is cleared or removed\n",
       "   */\n",
       "  function handleClearOutput(event, handle) {\n",
       "    var cell = handle.cell;\n",
       "\n",
       "    var id = cell.output_area._bokeh_element_id;\n",
       "    var server_id = cell.output_area._bokeh_server_id;\n",
       "    // Clean up Bokeh references\n",
       "    if (id != null && id in Bokeh.index) {\n",
       "      Bokeh.index[id].model.document.clear();\n",
       "      delete Bokeh.index[id];\n",
       "    }\n",
       "\n",
       "    if (server_id !== undefined) {\n",
       "      // Clean up Bokeh references\n",
       "      var cmd = \"from bokeh.io.state import curstate; print(curstate().uuid_to_server['\" + server_id + \"'].get_sessions()[0].document.roots[0]._id)\";\n",
       "      cell.notebook.kernel.execute(cmd, {\n",
       "        iopub: {\n",
       "          output: function(msg) {\n",
       "            var id = msg.content.text.trim();\n",
       "            if (id in Bokeh.index) {\n",
       "              Bokeh.index[id].model.document.clear();\n",
       "              delete Bokeh.index[id];\n",
       "            }\n",
       "          }\n",
       "        }\n",
       "      });\n",
       "      // Destroy server and session\n",
       "      var cmd = \"import bokeh.io.notebook as ion; ion.destroy_server('\" + server_id + \"')\";\n",
       "      cell.notebook.kernel.execute(cmd);\n",
       "    }\n",
       "  }\n",
       "\n",
       "  /**\n",
       "   * Handle when a new output is added\n",
       "   */\n",
       "  function handleAddOutput(event, handle) {\n",
       "    var output_area = handle.output_area;\n",
       "    var output = handle.output;\n",
       "\n",
       "    // limit handleAddOutput to display_data with EXEC_MIME_TYPE content only\n",
       "    if ((output.output_type != \"display_data\") || (!output.data.hasOwnProperty(EXEC_MIME_TYPE))) {\n",
       "      return\n",
       "    }\n",
       "\n",
       "    var toinsert = output_area.element.find(\".\" + CLASS_NAME.split(' ')[0]);\n",
       "\n",
       "    if (output.metadata[EXEC_MIME_TYPE][\"id\"] !== undefined) {\n",
       "      toinsert[toinsert.length - 1].firstChild.textContent = output.data[JS_MIME_TYPE];\n",
       "      // store reference to embed id on output_area\n",
       "      output_area._bokeh_element_id = output.metadata[EXEC_MIME_TYPE][\"id\"];\n",
       "    }\n",
       "    if (output.metadata[EXEC_MIME_TYPE][\"server_id\"] !== undefined) {\n",
       "      var bk_div = document.createElement(\"div\");\n",
       "      bk_div.innerHTML = output.data[HTML_MIME_TYPE];\n",
       "      var script_attrs = bk_div.children[0].attributes;\n",
       "      for (var i = 0; i < script_attrs.length; i++) {\n",
       "        toinsert[toinsert.length - 1].firstChild.setAttribute(script_attrs[i].name, script_attrs[i].value);\n",
       "      }\n",
       "      // store reference to server id on output_area\n",
       "      output_area._bokeh_server_id = output.metadata[EXEC_MIME_TYPE][\"server_id\"];\n",
       "    }\n",
       "  }\n",
       "\n",
       "  function register_renderer(events, OutputArea) {\n",
       "\n",
       "    function append_mime(data, metadata, element) {\n",
       "      // create a DOM node to render to\n",
       "      var toinsert = this.create_output_subarea(\n",
       "        metadata,\n",
       "        CLASS_NAME,\n",
       "        EXEC_MIME_TYPE\n",
       "      );\n",
       "      this.keyboard_manager.register_events(toinsert);\n",
       "      // Render to node\n",
       "      var props = {data: data, metadata: metadata[EXEC_MIME_TYPE]};\n",
       "      render(props, toinsert[toinsert.length - 1]);\n",
       "      element.append(toinsert);\n",
       "      return toinsert\n",
       "    }\n",
       "\n",
       "    /* Handle when an output is cleared or removed */\n",
       "    events.on('clear_output.CodeCell', handleClearOutput);\n",
       "    events.on('delete.Cell', handleClearOutput);\n",
       "\n",
       "    /* Handle when a new output is added */\n",
       "    events.on('output_added.OutputArea', handleAddOutput);\n",
       "\n",
       "    /**\n",
       "     * Register the mime type and append_mime function with output_area\n",
       "     */\n",
       "    OutputArea.prototype.register_mime_type(EXEC_MIME_TYPE, append_mime, {\n",
       "      /* Is output safe? */\n",
       "      safe: true,\n",
       "      /* Index of renderer in `output_area.display_order` */\n",
       "      index: 0\n",
       "    });\n",
       "  }\n",
       "\n",
       "  // register the mime type if in Jupyter Notebook environment and previously unregistered\n",
       "  if (root.Jupyter !== undefined) {\n",
       "    var events = require('base/js/events');\n",
       "    var OutputArea = require('notebook/js/outputarea').OutputArea;\n",
       "\n",
       "    if (OutputArea.prototype.mime_types().indexOf(EXEC_MIME_TYPE) == -1) {\n",
       "      register_renderer(events, OutputArea);\n",
       "    }\n",
       "  }\n",
       "\n",
       "  \n",
       "  if (typeof (root._bokeh_timeout) === \"undefined\" || force === true) {\n",
       "    root._bokeh_timeout = Date.now() + 5000;\n",
       "    root._bokeh_failed_load = false;\n",
       "  }\n",
       "\n",
       "  var NB_LOAD_WARNING = {'data': {'text/html':\n",
       "     \"<div style='background-color: #fdd'>\\n\"+\n",
       "     \"<p>\\n\"+\n",
       "     \"BokehJS does not appear to have successfully loaded. If loading BokehJS from CDN, this \\n\"+\n",
       "     \"may be due to a slow or bad network connection. Possible fixes:\\n\"+\n",
       "     \"</p>\\n\"+\n",
       "     \"<ul>\\n\"+\n",
       "     \"<li>re-rerun `output_notebook()` to attempt to load from CDN again, or</li>\\n\"+\n",
       "     \"<li>use INLINE resources instead, as so:</li>\\n\"+\n",
       "     \"</ul>\\n\"+\n",
       "     \"<code>\\n\"+\n",
       "     \"from bokeh.resources import INLINE\\n\"+\n",
       "     \"output_notebook(resources=INLINE)\\n\"+\n",
       "     \"</code>\\n\"+\n",
       "     \"</div>\"}};\n",
       "\n",
       "  function display_loaded() {\n",
       "    var el = document.getElementById(\"1001\");\n",
       "    if (el != null) {\n",
       "      el.textContent = \"BokehJS is loading...\";\n",
       "    }\n",
       "    if (root.Bokeh !== undefined) {\n",
       "      if (el != null) {\n",
       "        el.textContent = \"BokehJS \" + root.Bokeh.version + \" successfully loaded.\";\n",
       "      }\n",
       "    } else if (Date.now() < root._bokeh_timeout) {\n",
       "      setTimeout(display_loaded, 100)\n",
       "    }\n",
       "  }\n",
       "\n",
       "\n",
       "  function run_callbacks() {\n",
       "    try {\n",
       "      root._bokeh_onload_callbacks.forEach(function(callback) {\n",
       "        if (callback != null)\n",
       "          callback();\n",
       "      });\n",
       "    } finally {\n",
       "      delete root._bokeh_onload_callbacks\n",
       "    }\n",
       "    console.debug(\"Bokeh: all callbacks have finished\");\n",
       "  }\n",
       "\n",
       "  function load_libs(css_urls, js_urls, callback) {\n",
       "    if (css_urls == null) css_urls = [];\n",
       "    if (js_urls == null) js_urls = [];\n",
       "\n",
       "    root._bokeh_onload_callbacks.push(callback);\n",
       "    if (root._bokeh_is_loading > 0) {\n",
       "      console.debug(\"Bokeh: BokehJS is being loaded, scheduling callback at\", now());\n",
       "      return null;\n",
       "    }\n",
       "    if (js_urls == null || js_urls.length === 0) {\n",
       "      run_callbacks();\n",
       "      return null;\n",
       "    }\n",
       "    console.debug(\"Bokeh: BokehJS not loaded, scheduling load and callback at\", now());\n",
       "    root._bokeh_is_loading = css_urls.length + js_urls.length;\n",
       "\n",
       "    function on_load() {\n",
       "      root._bokeh_is_loading--;\n",
       "      if (root._bokeh_is_loading === 0) {\n",
       "        console.debug(\"Bokeh: all BokehJS libraries/stylesheets loaded\");\n",
       "        run_callbacks()\n",
       "      }\n",
       "    }\n",
       "\n",
       "    function on_error() {\n",
       "      console.error(\"failed to load \" + url);\n",
       "    }\n",
       "\n",
       "    for (var i = 0; i < css_urls.length; i++) {\n",
       "      var url = css_urls[i];\n",
       "      const element = document.createElement(\"link\");\n",
       "      element.onload = on_load;\n",
       "      element.onerror = on_error;\n",
       "      element.rel = \"stylesheet\";\n",
       "      element.type = \"text/css\";\n",
       "      element.href = url;\n",
       "      console.debug(\"Bokeh: injecting link tag for BokehJS stylesheet: \", url);\n",
       "      document.body.appendChild(element);\n",
       "    }\n",
       "\n",
       "    for (var i = 0; i < js_urls.length; i++) {\n",
       "      var url = js_urls[i];\n",
       "      var element = document.createElement('script');\n",
       "      element.onload = on_load;\n",
       "      element.onerror = on_error;\n",
       "      element.async = false;\n",
       "      element.src = url;\n",
       "      console.debug(\"Bokeh: injecting script tag for BokehJS library: \", url);\n",
       "      document.head.appendChild(element);\n",
       "    }\n",
       "  };var element = document.getElementById(\"1001\");\n",
       "  if (element == null) {\n",
       "    console.error(\"Bokeh: ERROR: autoload.js configured with elementid '1001' but no matching script tag was found. \")\n",
       "    return false;\n",
       "  }\n",
       "\n",
       "  function inject_raw_css(css) {\n",
       "    const element = document.createElement(\"style\");\n",
       "    element.appendChild(document.createTextNode(css));\n",
       "    document.body.appendChild(element);\n",
       "  }\n",
       "\n",
       "  var js_urls = [\"https://cdn.pydata.org/bokeh/release/bokeh-1.3.4.min.js\", \"https://cdn.pydata.org/bokeh/release/bokeh-widgets-1.3.4.min.js\", \"https://cdn.pydata.org/bokeh/release/bokeh-tables-1.3.4.min.js\", \"https://cdn.pydata.org/bokeh/release/bokeh-gl-1.3.4.min.js\"];\n",
       "  var css_urls = [];\n",
       "\n",
       "  var inline_js = [\n",
       "    function(Bokeh) {\n",
       "      Bokeh.set_log_level(\"info\");\n",
       "    },\n",
       "    \n",
       "    function(Bokeh) {\n",
       "      \n",
       "    },\n",
       "    function(Bokeh) {} // ensure no trailing comma for IE\n",
       "  ];\n",
       "\n",
       "  function run_inline_js() {\n",
       "    \n",
       "    if ((root.Bokeh !== undefined) || (force === true)) {\n",
       "      for (var i = 0; i < inline_js.length; i++) {\n",
       "        inline_js[i].call(root, root.Bokeh);\n",
       "      }if (force === true) {\n",
       "        display_loaded();\n",
       "      }} else if (Date.now() < root._bokeh_timeout) {\n",
       "      setTimeout(run_inline_js, 100);\n",
       "    } else if (!root._bokeh_failed_load) {\n",
       "      console.log(\"Bokeh: BokehJS failed to load within specified timeout.\");\n",
       "      root._bokeh_failed_load = true;\n",
       "    } else if (force !== true) {\n",
       "      var cell = $(document.getElementById(\"1001\")).parents('.cell').data().cell;\n",
       "      cell.output_area.append_execute_result(NB_LOAD_WARNING)\n",
       "    }\n",
       "\n",
       "  }\n",
       "\n",
       "  if (root._bokeh_is_loading === 0) {\n",
       "    console.debug(\"Bokeh: BokehJS loaded, going straight to plotting\");\n",
       "    run_inline_js();\n",
       "  } else {\n",
       "    load_libs(css_urls, js_urls, function() {\n",
       "      console.debug(\"Bokeh: BokehJS plotting callback run at\", now());\n",
       "      run_inline_js();\n",
       "    });\n",
       "  }\n",
       "}(window));"
      ],
      "application/vnd.bokehjs_load.v0+json": "\n(function(root) {\n  function now() {\n    return new Date();\n  }\n\n  var force = true;\n\n  if (typeof root._bokeh_onload_callbacks === \"undefined\" || force === true) {\n    root._bokeh_onload_callbacks = [];\n    root._bokeh_is_loading = undefined;\n  }\n\n  \n\n  \n  if (typeof (root._bokeh_timeout) === \"undefined\" || force === true) {\n    root._bokeh_timeout = Date.now() + 5000;\n    root._bokeh_failed_load = false;\n  }\n\n  var NB_LOAD_WARNING = {'data': {'text/html':\n     \"<div style='background-color: #fdd'>\\n\"+\n     \"<p>\\n\"+\n     \"BokehJS does not appear to have successfully loaded. If loading BokehJS from CDN, this \\n\"+\n     \"may be due to a slow or bad network connection. Possible fixes:\\n\"+\n     \"</p>\\n\"+\n     \"<ul>\\n\"+\n     \"<li>re-rerun `output_notebook()` to attempt to load from CDN again, or</li>\\n\"+\n     \"<li>use INLINE resources instead, as so:</li>\\n\"+\n     \"</ul>\\n\"+\n     \"<code>\\n\"+\n     \"from bokeh.resources import INLINE\\n\"+\n     \"output_notebook(resources=INLINE)\\n\"+\n     \"</code>\\n\"+\n     \"</div>\"}};\n\n  function display_loaded() {\n    var el = document.getElementById(\"1001\");\n    if (el != null) {\n      el.textContent = \"BokehJS is loading...\";\n    }\n    if (root.Bokeh !== undefined) {\n      if (el != null) {\n        el.textContent = \"BokehJS \" + root.Bokeh.version + \" successfully loaded.\";\n      }\n    } else if (Date.now() < root._bokeh_timeout) {\n      setTimeout(display_loaded, 100)\n    }\n  }\n\n\n  function run_callbacks() {\n    try {\n      root._bokeh_onload_callbacks.forEach(function(callback) {\n        if (callback != null)\n          callback();\n      });\n    } finally {\n      delete root._bokeh_onload_callbacks\n    }\n    console.debug(\"Bokeh: all callbacks have finished\");\n  }\n\n  function load_libs(css_urls, js_urls, callback) {\n    if (css_urls == null) css_urls = [];\n    if (js_urls == null) js_urls = [];\n\n    root._bokeh_onload_callbacks.push(callback);\n    if (root._bokeh_is_loading > 0) {\n      console.debug(\"Bokeh: BokehJS is being loaded, scheduling callback at\", now());\n      return null;\n    }\n    if (js_urls == null || js_urls.length === 0) {\n      run_callbacks();\n      return null;\n    }\n    console.debug(\"Bokeh: BokehJS not loaded, scheduling load and callback at\", now());\n    root._bokeh_is_loading = css_urls.length + js_urls.length;\n\n    function on_load() {\n      root._bokeh_is_loading--;\n      if (root._bokeh_is_loading === 0) {\n        console.debug(\"Bokeh: all BokehJS libraries/stylesheets loaded\");\n        run_callbacks()\n      }\n    }\n\n    function on_error() {\n      console.error(\"failed to load \" + url);\n    }\n\n    for (var i = 0; i < css_urls.length; i++) {\n      var url = css_urls[i];\n      const element = document.createElement(\"link\");\n      element.onload = on_load;\n      element.onerror = on_error;\n      element.rel = \"stylesheet\";\n      element.type = \"text/css\";\n      element.href = url;\n      console.debug(\"Bokeh: injecting link tag for BokehJS stylesheet: \", url);\n      document.body.appendChild(element);\n    }\n\n    for (var i = 0; i < js_urls.length; i++) {\n      var url = js_urls[i];\n      var element = document.createElement('script');\n      element.onload = on_load;\n      element.onerror = on_error;\n      element.async = false;\n      element.src = url;\n      console.debug(\"Bokeh: injecting script tag for BokehJS library: \", url);\n      document.head.appendChild(element);\n    }\n  };var element = document.getElementById(\"1001\");\n  if (element == null) {\n    console.error(\"Bokeh: ERROR: autoload.js configured with elementid '1001' but no matching script tag was found. \")\n    return false;\n  }\n\n  function inject_raw_css(css) {\n    const element = document.createElement(\"style\");\n    element.appendChild(document.createTextNode(css));\n    document.body.appendChild(element);\n  }\n\n  var js_urls = [\"https://cdn.pydata.org/bokeh/release/bokeh-1.3.4.min.js\", \"https://cdn.pydata.org/bokeh/release/bokeh-widgets-1.3.4.min.js\", \"https://cdn.pydata.org/bokeh/release/bokeh-tables-1.3.4.min.js\", \"https://cdn.pydata.org/bokeh/release/bokeh-gl-1.3.4.min.js\"];\n  var css_urls = [];\n\n  var inline_js = [\n    function(Bokeh) {\n      Bokeh.set_log_level(\"info\");\n    },\n    \n    function(Bokeh) {\n      \n    },\n    function(Bokeh) {} // ensure no trailing comma for IE\n  ];\n\n  function run_inline_js() {\n    \n    if ((root.Bokeh !== undefined) || (force === true)) {\n      for (var i = 0; i < inline_js.length; i++) {\n        inline_js[i].call(root, root.Bokeh);\n      }if (force === true) {\n        display_loaded();\n      }} else if (Date.now() < root._bokeh_timeout) {\n      setTimeout(run_inline_js, 100);\n    } else if (!root._bokeh_failed_load) {\n      console.log(\"Bokeh: BokehJS failed to load within specified timeout.\");\n      root._bokeh_failed_load = true;\n    } else if (force !== true) {\n      var cell = $(document.getElementById(\"1001\")).parents('.cell').data().cell;\n      cell.output_area.append_execute_result(NB_LOAD_WARNING)\n    }\n\n  }\n\n  if (root._bokeh_is_loading === 0) {\n    console.debug(\"Bokeh: BokehJS loaded, going straight to plotting\");\n    run_inline_js();\n  } else {\n    load_libs(css_urls, js_urls, function() {\n      console.debug(\"Bokeh: BokehJS plotting callback run at\", now());\n      run_inline_js();\n    });\n  }\n}(window));"
     },
     "metadata": {},
     "output_type": "display_data"
    }
   ],
   "source": [
    "output_notebook()"
   ]
  },
  {
   "cell_type": "code",
   "execution_count": 20,
   "metadata": {},
   "outputs": [],
   "source": [
    "def bkapp(doc):\n",
    "     \n",
    "    # Make the ColumnDataSource: source\n",
    "    source = ColumnDataSource( sub_cosm ) \n",
    "    plot = figure(x_axis_label = 'T-SNE 1', y_axis_label = 'T-SNE 2',plot_height=400, plot_width=500)\n",
    "    plot.circle(x= 'X', y='Y', alpha = 0.8, source = source)   \n",
    "    \n",
    "    # add extract information to each plot \n",
    "    hover = HoverTool(tooltips = [\n",
    "        ('brand', ' @brand_name'),\n",
    "        ('name', ' @product_name'),\n",
    "        ('price', ' $ @price'),\n",
    "        ('rank', ' @rating')])\n",
    "    plot.add_tools(hover)\n",
    "    \n",
    "    rating_lst  = list(sub_cosm.rating.unique())\n",
    "    rating_lst.sort()  \n",
    "    rating_lst = [str(r) for r in rating_lst]\n",
    "   \n",
    "    def update(attr, old, new):\n",
    "        if cat_select.value == 'Daytime Moisturizer': c = (sub_cosm.label == 'DM') \n",
    "        elif cat_select.value  == 'Eye Cream': c = (sub_cosm.label == 'EC')   \n",
    "        else: c = (sub_cosm.label == 'NM')  \n",
    "    \n",
    "        selected_rating =  [int(checkbox_group.labels[i]) for i in \n",
    "                        checkbox_group.active]\n",
    "         \n",
    "        df = sub_cosm[c & (sub_cosm.rating.isin(selected_rating))]\n",
    "        source.data = ColumnDataSource.from_df(df)\n",
    "        \n",
    "            \n",
    "    cat_select = Select(options = ['Daytime Moisturizer','Nighttime Moisturizer','Eye Cream'], \n",
    "                        value='Daytime Moisturizer', \n",
    "                     title = 'Category')\n",
    "    \n",
    "    cat_select.on_change('value', update)\n",
    "    checkbox_group = CheckboxGroup(labels= \n",
    "                                   rating_lst , active=[0,1])\n",
    "    checkbox_group.on_change('active', update)\n",
    "    \n",
    "    \n",
    "    controls = widgetbox(cat_select, checkbox_group)\n",
    "    \n",
    "    # Create a row layout\n",
    "    layout = row(controls, plot)\n",
    "    \n",
    "    # Make a tab with the layout \n",
    "    tab = Panel(child=layout, title = 'Select Product Type and Ratings') \n",
    "    tabs = Tabs(tabs=[tab])\n",
    "    doc.add_root(tabs)  "
   ]
  },
  {
   "cell_type": "code",
   "execution_count": 22,
   "metadata": {},
   "outputs": [
    {
     "data": {
      "application/vnd.bokehjs_exec.v0+json": "",
      "text/html": [
       "\n",
       "<script src=\"http://localhost:54704/autoload.js?bokeh-autoload-element=1076&bokeh-absolute-url=http://localhost:54704&resources=none\" id=\"1076\"></script>"
      ]
     },
     "metadata": {
      "application/vnd.bokehjs_exec.v0+json": {
       "server_id": "5119795d0ef342fa92836548316c62e9"
      }
     },
     "output_type": "display_data"
    }
   ],
   "source": [
    "show(bkapp, notebook_url=\"http://localhost:8890\")  # if error， change the notebook_url "
   ]
  },
  {
   "cell_type": "code",
   "execution_count": null,
   "metadata": {},
   "outputs": [],
   "source": []
  }
 ],
 "metadata": {
  "kernelspec": {
   "display_name": "Python 3",
   "language": "python",
   "name": "python3"
  },
  "language_info": {
   "codemirror_mode": {
    "name": "ipython",
    "version": 3
   },
   "file_extension": ".py",
   "mimetype": "text/x-python",
   "name": "python",
   "nbconvert_exporter": "python",
   "pygments_lexer": "ipython3",
   "version": "3.7.4"
  }
 },
 "nbformat": 4,
 "nbformat_minor": 2
}
